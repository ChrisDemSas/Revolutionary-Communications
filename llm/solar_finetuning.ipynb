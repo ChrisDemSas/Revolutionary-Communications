{
  "nbformat": 4,
  "nbformat_minor": 0,
  "metadata": {
    "colab": {
      "provenance": []
    },
    "kernelspec": {
      "name": "python3",
      "display_name": "Python 3"
    },
    "language_info": {
      "name": "python"
    },
    "widgets": {
      "application/vnd.jupyter.widget-state+json": {
        "b8b93c670d1847688f5b34d647c1f686": {
          "model_module": "@jupyter-widgets/controls",
          "model_name": "HBoxModel",
          "model_module_version": "1.5.0",
          "state": {
            "_dom_classes": [],
            "_model_module": "@jupyter-widgets/controls",
            "_model_module_version": "1.5.0",
            "_model_name": "HBoxModel",
            "_view_count": null,
            "_view_module": "@jupyter-widgets/controls",
            "_view_module_version": "1.5.0",
            "_view_name": "HBoxView",
            "box_style": "",
            "children": [
              "IPY_MODEL_7e5d7572aa86401db475f492e49f1431",
              "IPY_MODEL_0b35ceae1ca647559c9bcbb44c29e07b",
              "IPY_MODEL_92adb1bf17e24352b75a3e3c98d6c702"
            ],
            "layout": "IPY_MODEL_aa8204bd8e244900addecac89dd88d65"
          }
        },
        "7e5d7572aa86401db475f492e49f1431": {
          "model_module": "@jupyter-widgets/controls",
          "model_name": "HTMLModel",
          "model_module_version": "1.5.0",
          "state": {
            "_dom_classes": [],
            "_model_module": "@jupyter-widgets/controls",
            "_model_module_version": "1.5.0",
            "_model_name": "HTMLModel",
            "_view_count": null,
            "_view_module": "@jupyter-widgets/controls",
            "_view_module_version": "1.5.0",
            "_view_name": "HTMLView",
            "description": "",
            "description_tooltip": null,
            "layout": "IPY_MODEL_1cc4c3e7783143b4ab2857d09bdae9bb",
            "placeholder": "​",
            "style": "IPY_MODEL_7932efd180064459b5af6e4626e0bf62",
            "value": "tokenizer.json: 100%"
          }
        },
        "0b35ceae1ca647559c9bcbb44c29e07b": {
          "model_module": "@jupyter-widgets/controls",
          "model_name": "FloatProgressModel",
          "model_module_version": "1.5.0",
          "state": {
            "_dom_classes": [],
            "_model_module": "@jupyter-widgets/controls",
            "_model_module_version": "1.5.0",
            "_model_name": "FloatProgressModel",
            "_view_count": null,
            "_view_module": "@jupyter-widgets/controls",
            "_view_module_version": "1.5.0",
            "_view_name": "ProgressView",
            "bar_style": "success",
            "description": "",
            "description_tooltip": null,
            "layout": "IPY_MODEL_95448eb8153b42e4a17b88da0e21a80a",
            "max": 3314725,
            "min": 0,
            "orientation": "horizontal",
            "style": "IPY_MODEL_019aeb9d7b6541058d5a7411fc403c95",
            "value": 3314725
          }
        },
        "92adb1bf17e24352b75a3e3c98d6c702": {
          "model_module": "@jupyter-widgets/controls",
          "model_name": "HTMLModel",
          "model_module_version": "1.5.0",
          "state": {
            "_dom_classes": [],
            "_model_module": "@jupyter-widgets/controls",
            "_model_module_version": "1.5.0",
            "_model_name": "HTMLModel",
            "_view_count": null,
            "_view_module": "@jupyter-widgets/controls",
            "_view_module_version": "1.5.0",
            "_view_name": "HTMLView",
            "description": "",
            "description_tooltip": null,
            "layout": "IPY_MODEL_df947179e4464512939deb39e1ec4cc5",
            "placeholder": "​",
            "style": "IPY_MODEL_21d1dbb06f604f8e95789959af7b1496",
            "value": " 3.31M/3.31M [00:00&lt;00:00, 26.7MB/s]"
          }
        },
        "aa8204bd8e244900addecac89dd88d65": {
          "model_module": "@jupyter-widgets/base",
          "model_name": "LayoutModel",
          "model_module_version": "1.2.0",
          "state": {
            "_model_module": "@jupyter-widgets/base",
            "_model_module_version": "1.2.0",
            "_model_name": "LayoutModel",
            "_view_count": null,
            "_view_module": "@jupyter-widgets/base",
            "_view_module_version": "1.2.0",
            "_view_name": "LayoutView",
            "align_content": null,
            "align_items": null,
            "align_self": null,
            "border": null,
            "bottom": null,
            "display": null,
            "flex": null,
            "flex_flow": null,
            "grid_area": null,
            "grid_auto_columns": null,
            "grid_auto_flow": null,
            "grid_auto_rows": null,
            "grid_column": null,
            "grid_gap": null,
            "grid_row": null,
            "grid_template_areas": null,
            "grid_template_columns": null,
            "grid_template_rows": null,
            "height": null,
            "justify_content": null,
            "justify_items": null,
            "left": null,
            "margin": null,
            "max_height": null,
            "max_width": null,
            "min_height": null,
            "min_width": null,
            "object_fit": null,
            "object_position": null,
            "order": null,
            "overflow": null,
            "overflow_x": null,
            "overflow_y": null,
            "padding": null,
            "right": null,
            "top": null,
            "visibility": null,
            "width": null
          }
        },
        "1cc4c3e7783143b4ab2857d09bdae9bb": {
          "model_module": "@jupyter-widgets/base",
          "model_name": "LayoutModel",
          "model_module_version": "1.2.0",
          "state": {
            "_model_module": "@jupyter-widgets/base",
            "_model_module_version": "1.2.0",
            "_model_name": "LayoutModel",
            "_view_count": null,
            "_view_module": "@jupyter-widgets/base",
            "_view_module_version": "1.2.0",
            "_view_name": "LayoutView",
            "align_content": null,
            "align_items": null,
            "align_self": null,
            "border": null,
            "bottom": null,
            "display": null,
            "flex": null,
            "flex_flow": null,
            "grid_area": null,
            "grid_auto_columns": null,
            "grid_auto_flow": null,
            "grid_auto_rows": null,
            "grid_column": null,
            "grid_gap": null,
            "grid_row": null,
            "grid_template_areas": null,
            "grid_template_columns": null,
            "grid_template_rows": null,
            "height": null,
            "justify_content": null,
            "justify_items": null,
            "left": null,
            "margin": null,
            "max_height": null,
            "max_width": null,
            "min_height": null,
            "min_width": null,
            "object_fit": null,
            "object_position": null,
            "order": null,
            "overflow": null,
            "overflow_x": null,
            "overflow_y": null,
            "padding": null,
            "right": null,
            "top": null,
            "visibility": null,
            "width": null
          }
        },
        "7932efd180064459b5af6e4626e0bf62": {
          "model_module": "@jupyter-widgets/controls",
          "model_name": "DescriptionStyleModel",
          "model_module_version": "1.5.0",
          "state": {
            "_model_module": "@jupyter-widgets/controls",
            "_model_module_version": "1.5.0",
            "_model_name": "DescriptionStyleModel",
            "_view_count": null,
            "_view_module": "@jupyter-widgets/base",
            "_view_module_version": "1.2.0",
            "_view_name": "StyleView",
            "description_width": ""
          }
        },
        "95448eb8153b42e4a17b88da0e21a80a": {
          "model_module": "@jupyter-widgets/base",
          "model_name": "LayoutModel",
          "model_module_version": "1.2.0",
          "state": {
            "_model_module": "@jupyter-widgets/base",
            "_model_module_version": "1.2.0",
            "_model_name": "LayoutModel",
            "_view_count": null,
            "_view_module": "@jupyter-widgets/base",
            "_view_module_version": "1.2.0",
            "_view_name": "LayoutView",
            "align_content": null,
            "align_items": null,
            "align_self": null,
            "border": null,
            "bottom": null,
            "display": null,
            "flex": null,
            "flex_flow": null,
            "grid_area": null,
            "grid_auto_columns": null,
            "grid_auto_flow": null,
            "grid_auto_rows": null,
            "grid_column": null,
            "grid_gap": null,
            "grid_row": null,
            "grid_template_areas": null,
            "grid_template_columns": null,
            "grid_template_rows": null,
            "height": null,
            "justify_content": null,
            "justify_items": null,
            "left": null,
            "margin": null,
            "max_height": null,
            "max_width": null,
            "min_height": null,
            "min_width": null,
            "object_fit": null,
            "object_position": null,
            "order": null,
            "overflow": null,
            "overflow_x": null,
            "overflow_y": null,
            "padding": null,
            "right": null,
            "top": null,
            "visibility": null,
            "width": null
          }
        },
        "019aeb9d7b6541058d5a7411fc403c95": {
          "model_module": "@jupyter-widgets/controls",
          "model_name": "ProgressStyleModel",
          "model_module_version": "1.5.0",
          "state": {
            "_model_module": "@jupyter-widgets/controls",
            "_model_module_version": "1.5.0",
            "_model_name": "ProgressStyleModel",
            "_view_count": null,
            "_view_module": "@jupyter-widgets/base",
            "_view_module_version": "1.2.0",
            "_view_name": "StyleView",
            "bar_color": null,
            "description_width": ""
          }
        },
        "df947179e4464512939deb39e1ec4cc5": {
          "model_module": "@jupyter-widgets/base",
          "model_name": "LayoutModel",
          "model_module_version": "1.2.0",
          "state": {
            "_model_module": "@jupyter-widgets/base",
            "_model_module_version": "1.2.0",
            "_model_name": "LayoutModel",
            "_view_count": null,
            "_view_module": "@jupyter-widgets/base",
            "_view_module_version": "1.2.0",
            "_view_name": "LayoutView",
            "align_content": null,
            "align_items": null,
            "align_self": null,
            "border": null,
            "bottom": null,
            "display": null,
            "flex": null,
            "flex_flow": null,
            "grid_area": null,
            "grid_auto_columns": null,
            "grid_auto_flow": null,
            "grid_auto_rows": null,
            "grid_column": null,
            "grid_gap": null,
            "grid_row": null,
            "grid_template_areas": null,
            "grid_template_columns": null,
            "grid_template_rows": null,
            "height": null,
            "justify_content": null,
            "justify_items": null,
            "left": null,
            "margin": null,
            "max_height": null,
            "max_width": null,
            "min_height": null,
            "min_width": null,
            "object_fit": null,
            "object_position": null,
            "order": null,
            "overflow": null,
            "overflow_x": null,
            "overflow_y": null,
            "padding": null,
            "right": null,
            "top": null,
            "visibility": null,
            "width": null
          }
        },
        "21d1dbb06f604f8e95789959af7b1496": {
          "model_module": "@jupyter-widgets/controls",
          "model_name": "DescriptionStyleModel",
          "model_module_version": "1.5.0",
          "state": {
            "_model_module": "@jupyter-widgets/controls",
            "_model_module_version": "1.5.0",
            "_model_name": "DescriptionStyleModel",
            "_view_count": null,
            "_view_module": "@jupyter-widgets/base",
            "_view_module_version": "1.2.0",
            "_view_name": "StyleView",
            "description_width": ""
          }
        }
      }
    }
  },
  "cells": [
    {
      "cell_type": "code",
      "execution_count": null,
      "metadata": {
        "colab": {
          "base_uri": "https://localhost:8080/"
        },
        "id": "BC5gOlFxSK8q",
        "outputId": "961f5dd0-194b-4cf7-ef9a-0c9bc8ea316f"
      },
      "outputs": [
        {
          "output_type": "stream",
          "name": "stdout",
          "text": [
            "\u001b[?25l     \u001b[90m━━━━━━━━━━━━━━━━━━━━━━━━━━━━━━━━━━━━━━━━\u001b[0m \u001b[32m0.0/84.8 kB\u001b[0m \u001b[31m?\u001b[0m eta \u001b[36m-:--:--\u001b[0m\r\u001b[2K     \u001b[90m━━━━━━━━━━━━━━━━━━━━━━━━━━━━━━━━━━━━━━━━\u001b[0m \u001b[32m84.8/84.8 kB\u001b[0m \u001b[31m5.3 MB/s\u001b[0m eta \u001b[36m0:00:00\u001b[0m\n",
            "\u001b[?25h  Preparing metadata (setup.py) ... \u001b[?25l\u001b[?25hdone\n",
            "  Preparing metadata (setup.py) ... \u001b[?25l\u001b[?25hdone\n",
            "  Installing build dependencies ... \u001b[?25l\u001b[?25hdone\n",
            "  Getting requirements to build wheel ... \u001b[?25l\u001b[?25hdone\n",
            "  Preparing metadata (pyproject.toml) ... \u001b[?25l\u001b[?25hdone\n",
            "\u001b[2K     \u001b[90m━━━━━━━━━━━━━━━━━━━━━━━━━━━━━━━━━━━━━━━━\u001b[0m \u001b[32m47.1/47.1 kB\u001b[0m \u001b[31m3.1 MB/s\u001b[0m eta \u001b[36m0:00:00\u001b[0m\n",
            "\u001b[?25h\u001b[33mWARNING: typer 0.12.3 does not provide the extra 'all'\u001b[0m\u001b[33m\n",
            "\u001b[2K   \u001b[90m━━━━━━━━━━━━━━━━━━━━━━━━━━━━━━━━━━━━━━━━\u001b[0m \u001b[32m140.4/140.4 kB\u001b[0m \u001b[31m7.9 MB/s\u001b[0m eta \u001b[36m0:00:00\u001b[0m\n",
            "\u001b[2K   \u001b[90m━━━━━━━━━━━━━━━━━━━━━━━━━━━━━━━━━━━━━━━━\u001b[0m \u001b[32m547.8/547.8 kB\u001b[0m \u001b[31m14.7 MB/s\u001b[0m eta \u001b[36m0:00:00\u001b[0m\n",
            "\u001b[2K   \u001b[90m━━━━━━━━━━━━━━━━━━━━━━━━━━━━━━━━━━━━━━━━\u001b[0m \u001b[32m116.3/116.3 kB\u001b[0m \u001b[31m7.1 MB/s\u001b[0m eta \u001b[36m0:00:00\u001b[0m\n",
            "\u001b[2K   \u001b[90m━━━━━━━━━━━━━━━━━━━━━━━━━━━━━━━━━━━━━━━━\u001b[0m \u001b[32m316.1/316.1 kB\u001b[0m \u001b[31m18.5 MB/s\u001b[0m eta \u001b[36m0:00:00\u001b[0m\n",
            "\u001b[2K   \u001b[90m━━━━━━━━━━━━━━━━━━━━━━━━━━━━━━━━━━━━━━━━\u001b[0m \u001b[32m39.9/39.9 MB\u001b[0m \u001b[31m24.5 MB/s\u001b[0m eta \u001b[36m0:00:00\u001b[0m\n",
            "\u001b[2K   \u001b[90m━━━━━━━━━━━━━━━━━━━━━━━━━━━━━━━━━━━━━━━━\u001b[0m \u001b[32m64.9/64.9 kB\u001b[0m \u001b[31m4.0 MB/s\u001b[0m eta \u001b[36m0:00:00\u001b[0m\n",
            "\u001b[2K   \u001b[90m━━━━━━━━━━━━━━━━━━━━━━━━━━━━━━━━━━━━━━━━\u001b[0m \u001b[32m130.2/130.2 kB\u001b[0m \u001b[31m8.7 MB/s\u001b[0m eta \u001b[36m0:00:00\u001b[0m\n",
            "\u001b[2K   \u001b[90m━━━━━━━━━━━━━━━━━━━━━━━━━━━━━━━━━━━━━━━━\u001b[0m \u001b[32m134.8/134.8 kB\u001b[0m \u001b[31m9.3 MB/s\u001b[0m eta \u001b[36m0:00:00\u001b[0m\n",
            "\u001b[2K   \u001b[90m━━━━━━━━━━━━━━━━━━━━━━━━━━━━━━━━━━━━━━━━\u001b[0m \u001b[32m12.4/12.4 MB\u001b[0m \u001b[31m98.8 MB/s\u001b[0m eta \u001b[36m0:00:00\u001b[0m\n",
            "\u001b[2K   \u001b[90m━━━━━━━━━━━━━━━━━━━━━━━━━━━━━━━━━━━━━━━━\u001b[0m \u001b[32m194.1/194.1 kB\u001b[0m \u001b[31m13.5 MB/s\u001b[0m eta \u001b[36m0:00:00\u001b[0m\n",
            "\u001b[2K   \u001b[90m━━━━━━━━━━━━━━━━━━━━━━━━━━━━━━━━━━━━━━━━\u001b[0m \u001b[32m49.2/49.2 kB\u001b[0m \u001b[31m3.3 MB/s\u001b[0m eta \u001b[36m0:00:00\u001b[0m\n",
            "\u001b[2K   \u001b[90m━━━━━━━━━━━━━━━━━━━━━━━━━━━━━━━━━━━━━━━━\u001b[0m \u001b[32m1.7/1.7 MB\u001b[0m \u001b[31m56.4 MB/s\u001b[0m eta \u001b[36m0:00:00\u001b[0m\n",
            "\u001b[?25h  Building wheel for predibase (setup.py) ... \u001b[?25l\u001b[?25hdone\n",
            "  Building wheel for predibase-api (setup.py) ... \u001b[?25l\u001b[?25hdone\n",
            "  Building wheel for progress-table (pyproject.toml) ... \u001b[?25l\u001b[?25hdone\n",
            "\u001b[31mERROR: pip's dependency resolver does not currently take into account all the packages that are installed. This behaviour is the source of the following dependency conflicts.\n",
            "torch 2.3.1+cu121 requires nvidia-cublas-cu12==12.1.3.1; platform_system == \"Linux\" and platform_machine == \"x86_64\", which is not installed.\n",
            "torch 2.3.1+cu121 requires nvidia-cuda-cupti-cu12==12.1.105; platform_system == \"Linux\" and platform_machine == \"x86_64\", which is not installed.\n",
            "torch 2.3.1+cu121 requires nvidia-cuda-nvrtc-cu12==12.1.105; platform_system == \"Linux\" and platform_machine == \"x86_64\", which is not installed.\n",
            "torch 2.3.1+cu121 requires nvidia-cuda-runtime-cu12==12.1.105; platform_system == \"Linux\" and platform_machine == \"x86_64\", which is not installed.\n",
            "torch 2.3.1+cu121 requires nvidia-cudnn-cu12==8.9.2.26; platform_system == \"Linux\" and platform_machine == \"x86_64\", which is not installed.\n",
            "torch 2.3.1+cu121 requires nvidia-cufft-cu12==11.0.2.54; platform_system == \"Linux\" and platform_machine == \"x86_64\", which is not installed.\n",
            "torch 2.3.1+cu121 requires nvidia-curand-cu12==10.3.2.106; platform_system == \"Linux\" and platform_machine == \"x86_64\", which is not installed.\n",
            "torch 2.3.1+cu121 requires nvidia-cusolver-cu12==11.4.5.107; platform_system == \"Linux\" and platform_machine == \"x86_64\", which is not installed.\n",
            "torch 2.3.1+cu121 requires nvidia-cusparse-cu12==12.1.0.106; platform_system == \"Linux\" and platform_machine == \"x86_64\", which is not installed.\n",
            "torch 2.3.1+cu121 requires nvidia-nccl-cu12==2.20.5; platform_system == \"Linux\" and platform_machine == \"x86_64\", which is not installed.\n",
            "torch 2.3.1+cu121 requires nvidia-nvtx-cu12==12.1.105; platform_system == \"Linux\" and platform_machine == \"x86_64\", which is not installed.\n",
            "cudf-cu12 24.4.1 requires pyarrow<15.0.0a0,>=14.0.1, but you have pyarrow 17.0.0 which is incompatible.\n",
            "gcsfs 2024.6.1 requires fsspec==2024.6.1, but you have fsspec 2024.5.0 which is incompatible.\n",
            "google-colab 1.0.0 requires requests==2.31.0, but you have requests 2.32.3 which is incompatible.\n",
            "ibis-framework 8.0.0 requires pyarrow<16,>=2, but you have pyarrow 17.0.0 which is incompatible.\u001b[0m\u001b[31m\n",
            "\u001b[0m"
          ]
        }
      ],
      "source": [
        "!pip install -q predibase datasets"
      ]
    },
    {
      "cell_type": "code",
      "source": [
        "import warnings\n",
        "\n",
        "warnings.filterwarnings(\"ignore\")"
      ],
      "metadata": {
        "id": "UXJmlPJTSMxh"
      },
      "execution_count": null,
      "outputs": []
    },
    {
      "cell_type": "code",
      "source": [
        "from predibase import Predibase, FinetuningConfig, DeploymentConfig\n",
        "\n",
        "# Get a KEY from https://app.predibase.com/\n",
        "from google.colab import userdata\n",
        "api_token = ''\n",
        "#api_token: str = userdata.get(PREDIBASE_API_KEY)\n",
        "pb = Predibase(api_token=api_token)"
      ],
      "metadata": {
        "colab": {
          "base_uri": "https://localhost:8080/",
          "height": 48
        },
        "id": "Yq0s3j5OSOKT",
        "outputId": "a48c05cd-9261-420c-8ee3-f35d2804b0b8"
      },
      "execution_count": null,
      "outputs": [
        {
          "output_type": "display_data",
          "data": {
            "text/plain": [
              "\u001b[1;34mConnected to Predibase as \u001b[0m\u001b[1;35mUser\u001b[0m\u001b[1;34m(\u001b[0m\u001b[1;33mid\u001b[0m\u001b[1;34m=\u001b[0m\u001b[93m5ca711bf\u001b[0m\u001b[93m-c8e4-470d-93e9-6a9605e9983e\u001b[0m\u001b[1;34m, \u001b[0m\n",
              "\u001b[1;33musername\u001b[0m\u001b[1;34m=\u001b[0m\u001b[1;35mchristopher\u001b[0m\u001b[1;34m.sastropranoto@gmail.com\u001b[0m\u001b[1;34m)\u001b[0m\n"
            ],
            "text/html": [
              "<pre style=\"white-space:pre;overflow-x:auto;line-height:normal;font-family:Menlo,'DejaVu Sans Mono',consolas,'Courier New',monospace\"><span style=\"color: #000080; text-decoration-color: #000080; font-weight: bold\">Connected to Predibase as </span><span style=\"color: #800080; text-decoration-color: #800080; font-weight: bold\">User</span><span style=\"color: #000080; text-decoration-color: #000080; font-weight: bold\">(</span><span style=\"color: #808000; text-decoration-color: #808000; font-weight: bold\">id</span><span style=\"color: #000080; text-decoration-color: #000080; font-weight: bold\">=</span><span style=\"color: #ffff00; text-decoration-color: #ffff00\">5ca711bf</span><span style=\"color: #ffff00; text-decoration-color: #ffff00\">-c8e4-470d-93e9-6a9605e9983e</span><span style=\"color: #000080; text-decoration-color: #000080; font-weight: bold\">, </span>\n",
              "<span style=\"color: #808000; text-decoration-color: #808000; font-weight: bold\">username</span><span style=\"color: #000080; text-decoration-color: #000080; font-weight: bold\">=</span><span style=\"color: #800080; text-decoration-color: #800080; font-weight: bold\">christopher</span><span style=\"color: #000080; text-decoration-color: #000080; font-weight: bold\">.sastropranoto@gmail.com)</span>\n",
              "</pre>\n"
            ]
          },
          "metadata": {}
        }
      ]
    },
    {
      "cell_type": "code",
      "source": [
        "import pandas as pd\n",
        "# Need to process dataset\n",
        "cultural = pd.read_csv('cultural.csv')\n",
        "environment = pd.read_csv('environment.csv')\n",
        "economic = pd.read_csv('economic.csv')\n",
        "misc = pd.read_csv('misc.csv')\n",
        "treatment = pd.read_csv('treatment.csv')\n",
        "\n",
        "dataset = pd.concat([cultural, environment, economic, misc, treatment])"
      ],
      "metadata": {
        "id": "SYuvxTGfSQd1"
      },
      "execution_count": null,
      "outputs": []
    },
    {
      "cell_type": "code",
      "source": [
        "# Preprocess Data\n",
        "\n",
        "def preprocess_text(text: str) -> str:\n",
        "  \"\"\"Take in a text (review) and preprocess it.\n",
        "\n",
        "  Attributes:\n",
        "    text: The review.\n",
        "  \"\"\"\n",
        "\n",
        "  PROMPT = f\"\"\"\n",
        "  <|im_start|>system\\nThe following is a review from locals or people from authority to tour companies. Please give it sentiment rating, from 1 to 10 of the review, where 1 denotes a completely negative sentiment, while 10 denotes a completely positive sentiment.<|im_end|>\n",
        "  <|im_start|>passage\\n {text}\n",
        "  <|im_start|>rating\\n\n",
        "  \"\"\"\n",
        "\n",
        "  return PROMPT\n",
        "\n",
        "review = 'Review'\n"
      ],
      "metadata": {
        "id": "uzz0gKwJWo7f"
      },
      "execution_count": null,
      "outputs": []
    },
    {
      "cell_type": "code",
      "source": [
        "dataset['feedback'] = dataset['feedback'].apply(lambda x: preprocess_text(x))\n",
        "dataset = dataset.rename(columns = {'sentiment': 'completion', 'feedback': 'prompt'})\n",
        "\n",
        "dataset.head()"
      ],
      "metadata": {
        "colab": {
          "base_uri": "https://localhost:8080/",
          "height": 206
        },
        "id": "mB27o5Yf00-i",
        "outputId": "9c6ccc1c-98f8-4adc-f802-0a322c33c46e"
      },
      "execution_count": null,
      "outputs": [
        {
          "output_type": "execute_result",
          "data": {
            "text/plain": [
              "                                              prompt completion\n",
              "0  \\n  <|im_start|>system\\nThe following is a rev...          1\n",
              "1  \\n  <|im_start|>system\\nThe following is a rev...          1\n",
              "2  \\n  <|im_start|>system\\nThe following is a rev...          1\n",
              "3  \\n  <|im_start|>system\\nThe following is a rev...          1\n",
              "4  \\n  <|im_start|>system\\nThe following is a rev...          1"
            ],
            "text/html": [
              "\n",
              "  <div id=\"df-a5fb2302-c7bb-4bfa-885f-53a72ed03896\" class=\"colab-df-container\">\n",
              "    <div>\n",
              "<style scoped>\n",
              "    .dataframe tbody tr th:only-of-type {\n",
              "        vertical-align: middle;\n",
              "    }\n",
              "\n",
              "    .dataframe tbody tr th {\n",
              "        vertical-align: top;\n",
              "    }\n",
              "\n",
              "    .dataframe thead th {\n",
              "        text-align: right;\n",
              "    }\n",
              "</style>\n",
              "<table border=\"1\" class=\"dataframe\">\n",
              "  <thead>\n",
              "    <tr style=\"text-align: right;\">\n",
              "      <th></th>\n",
              "      <th>prompt</th>\n",
              "      <th>completion</th>\n",
              "    </tr>\n",
              "  </thead>\n",
              "  <tbody>\n",
              "    <tr>\n",
              "      <th>0</th>\n",
              "      <td>\\n  &lt;|im_start|&gt;system\\nThe following is a rev...</td>\n",
              "      <td>1</td>\n",
              "    </tr>\n",
              "    <tr>\n",
              "      <th>1</th>\n",
              "      <td>\\n  &lt;|im_start|&gt;system\\nThe following is a rev...</td>\n",
              "      <td>1</td>\n",
              "    </tr>\n",
              "    <tr>\n",
              "      <th>2</th>\n",
              "      <td>\\n  &lt;|im_start|&gt;system\\nThe following is a rev...</td>\n",
              "      <td>1</td>\n",
              "    </tr>\n",
              "    <tr>\n",
              "      <th>3</th>\n",
              "      <td>\\n  &lt;|im_start|&gt;system\\nThe following is a rev...</td>\n",
              "      <td>1</td>\n",
              "    </tr>\n",
              "    <tr>\n",
              "      <th>4</th>\n",
              "      <td>\\n  &lt;|im_start|&gt;system\\nThe following is a rev...</td>\n",
              "      <td>1</td>\n",
              "    </tr>\n",
              "  </tbody>\n",
              "</table>\n",
              "</div>\n",
              "    <div class=\"colab-df-buttons\">\n",
              "\n",
              "  <div class=\"colab-df-container\">\n",
              "    <button class=\"colab-df-convert\" onclick=\"convertToInteractive('df-a5fb2302-c7bb-4bfa-885f-53a72ed03896')\"\n",
              "            title=\"Convert this dataframe to an interactive table.\"\n",
              "            style=\"display:none;\">\n",
              "\n",
              "  <svg xmlns=\"http://www.w3.org/2000/svg\" height=\"24px\" viewBox=\"0 -960 960 960\">\n",
              "    <path d=\"M120-120v-720h720v720H120Zm60-500h600v-160H180v160Zm220 220h160v-160H400v160Zm0 220h160v-160H400v160ZM180-400h160v-160H180v160Zm440 0h160v-160H620v160ZM180-180h160v-160H180v160Zm440 0h160v-160H620v160Z\"/>\n",
              "  </svg>\n",
              "    </button>\n",
              "\n",
              "  <style>\n",
              "    .colab-df-container {\n",
              "      display:flex;\n",
              "      gap: 12px;\n",
              "    }\n",
              "\n",
              "    .colab-df-convert {\n",
              "      background-color: #E8F0FE;\n",
              "      border: none;\n",
              "      border-radius: 50%;\n",
              "      cursor: pointer;\n",
              "      display: none;\n",
              "      fill: #1967D2;\n",
              "      height: 32px;\n",
              "      padding: 0 0 0 0;\n",
              "      width: 32px;\n",
              "    }\n",
              "\n",
              "    .colab-df-convert:hover {\n",
              "      background-color: #E2EBFA;\n",
              "      box-shadow: 0px 1px 2px rgba(60, 64, 67, 0.3), 0px 1px 3px 1px rgba(60, 64, 67, 0.15);\n",
              "      fill: #174EA6;\n",
              "    }\n",
              "\n",
              "    .colab-df-buttons div {\n",
              "      margin-bottom: 4px;\n",
              "    }\n",
              "\n",
              "    [theme=dark] .colab-df-convert {\n",
              "      background-color: #3B4455;\n",
              "      fill: #D2E3FC;\n",
              "    }\n",
              "\n",
              "    [theme=dark] .colab-df-convert:hover {\n",
              "      background-color: #434B5C;\n",
              "      box-shadow: 0px 1px 3px 1px rgba(0, 0, 0, 0.15);\n",
              "      filter: drop-shadow(0px 1px 2px rgba(0, 0, 0, 0.3));\n",
              "      fill: #FFFFFF;\n",
              "    }\n",
              "  </style>\n",
              "\n",
              "    <script>\n",
              "      const buttonEl =\n",
              "        document.querySelector('#df-a5fb2302-c7bb-4bfa-885f-53a72ed03896 button.colab-df-convert');\n",
              "      buttonEl.style.display =\n",
              "        google.colab.kernel.accessAllowed ? 'block' : 'none';\n",
              "\n",
              "      async function convertToInteractive(key) {\n",
              "        const element = document.querySelector('#df-a5fb2302-c7bb-4bfa-885f-53a72ed03896');\n",
              "        const dataTable =\n",
              "          await google.colab.kernel.invokeFunction('convertToInteractive',\n",
              "                                                    [key], {});\n",
              "        if (!dataTable) return;\n",
              "\n",
              "        const docLinkHtml = 'Like what you see? Visit the ' +\n",
              "          '<a target=\"_blank\" href=https://colab.research.google.com/notebooks/data_table.ipynb>data table notebook</a>'\n",
              "          + ' to learn more about interactive tables.';\n",
              "        element.innerHTML = '';\n",
              "        dataTable['output_type'] = 'display_data';\n",
              "        await google.colab.output.renderOutput(dataTable, element);\n",
              "        const docLink = document.createElement('div');\n",
              "        docLink.innerHTML = docLinkHtml;\n",
              "        element.appendChild(docLink);\n",
              "      }\n",
              "    </script>\n",
              "  </div>\n",
              "\n",
              "\n",
              "<div id=\"df-11078659-3a6a-469f-8f97-f15e34739f04\">\n",
              "  <button class=\"colab-df-quickchart\" onclick=\"quickchart('df-11078659-3a6a-469f-8f97-f15e34739f04')\"\n",
              "            title=\"Suggest charts\"\n",
              "            style=\"display:none;\">\n",
              "\n",
              "<svg xmlns=\"http://www.w3.org/2000/svg\" height=\"24px\"viewBox=\"0 0 24 24\"\n",
              "     width=\"24px\">\n",
              "    <g>\n",
              "        <path d=\"M19 3H5c-1.1 0-2 .9-2 2v14c0 1.1.9 2 2 2h14c1.1 0 2-.9 2-2V5c0-1.1-.9-2-2-2zM9 17H7v-7h2v7zm4 0h-2V7h2v10zm4 0h-2v-4h2v4z\"/>\n",
              "    </g>\n",
              "</svg>\n",
              "  </button>\n",
              "\n",
              "<style>\n",
              "  .colab-df-quickchart {\n",
              "      --bg-color: #E8F0FE;\n",
              "      --fill-color: #1967D2;\n",
              "      --hover-bg-color: #E2EBFA;\n",
              "      --hover-fill-color: #174EA6;\n",
              "      --disabled-fill-color: #AAA;\n",
              "      --disabled-bg-color: #DDD;\n",
              "  }\n",
              "\n",
              "  [theme=dark] .colab-df-quickchart {\n",
              "      --bg-color: #3B4455;\n",
              "      --fill-color: #D2E3FC;\n",
              "      --hover-bg-color: #434B5C;\n",
              "      --hover-fill-color: #FFFFFF;\n",
              "      --disabled-bg-color: #3B4455;\n",
              "      --disabled-fill-color: #666;\n",
              "  }\n",
              "\n",
              "  .colab-df-quickchart {\n",
              "    background-color: var(--bg-color);\n",
              "    border: none;\n",
              "    border-radius: 50%;\n",
              "    cursor: pointer;\n",
              "    display: none;\n",
              "    fill: var(--fill-color);\n",
              "    height: 32px;\n",
              "    padding: 0;\n",
              "    width: 32px;\n",
              "  }\n",
              "\n",
              "  .colab-df-quickchart:hover {\n",
              "    background-color: var(--hover-bg-color);\n",
              "    box-shadow: 0 1px 2px rgba(60, 64, 67, 0.3), 0 1px 3px 1px rgba(60, 64, 67, 0.15);\n",
              "    fill: var(--button-hover-fill-color);\n",
              "  }\n",
              "\n",
              "  .colab-df-quickchart-complete:disabled,\n",
              "  .colab-df-quickchart-complete:disabled:hover {\n",
              "    background-color: var(--disabled-bg-color);\n",
              "    fill: var(--disabled-fill-color);\n",
              "    box-shadow: none;\n",
              "  }\n",
              "\n",
              "  .colab-df-spinner {\n",
              "    border: 2px solid var(--fill-color);\n",
              "    border-color: transparent;\n",
              "    border-bottom-color: var(--fill-color);\n",
              "    animation:\n",
              "      spin 1s steps(1) infinite;\n",
              "  }\n",
              "\n",
              "  @keyframes spin {\n",
              "    0% {\n",
              "      border-color: transparent;\n",
              "      border-bottom-color: var(--fill-color);\n",
              "      border-left-color: var(--fill-color);\n",
              "    }\n",
              "    20% {\n",
              "      border-color: transparent;\n",
              "      border-left-color: var(--fill-color);\n",
              "      border-top-color: var(--fill-color);\n",
              "    }\n",
              "    30% {\n",
              "      border-color: transparent;\n",
              "      border-left-color: var(--fill-color);\n",
              "      border-top-color: var(--fill-color);\n",
              "      border-right-color: var(--fill-color);\n",
              "    }\n",
              "    40% {\n",
              "      border-color: transparent;\n",
              "      border-right-color: var(--fill-color);\n",
              "      border-top-color: var(--fill-color);\n",
              "    }\n",
              "    60% {\n",
              "      border-color: transparent;\n",
              "      border-right-color: var(--fill-color);\n",
              "    }\n",
              "    80% {\n",
              "      border-color: transparent;\n",
              "      border-right-color: var(--fill-color);\n",
              "      border-bottom-color: var(--fill-color);\n",
              "    }\n",
              "    90% {\n",
              "      border-color: transparent;\n",
              "      border-bottom-color: var(--fill-color);\n",
              "    }\n",
              "  }\n",
              "</style>\n",
              "\n",
              "  <script>\n",
              "    async function quickchart(key) {\n",
              "      const quickchartButtonEl =\n",
              "        document.querySelector('#' + key + ' button');\n",
              "      quickchartButtonEl.disabled = true;  // To prevent multiple clicks.\n",
              "      quickchartButtonEl.classList.add('colab-df-spinner');\n",
              "      try {\n",
              "        const charts = await google.colab.kernel.invokeFunction(\n",
              "            'suggestCharts', [key], {});\n",
              "      } catch (error) {\n",
              "        console.error('Error during call to suggestCharts:', error);\n",
              "      }\n",
              "      quickchartButtonEl.classList.remove('colab-df-spinner');\n",
              "      quickchartButtonEl.classList.add('colab-df-quickchart-complete');\n",
              "    }\n",
              "    (() => {\n",
              "      let quickchartButtonEl =\n",
              "        document.querySelector('#df-11078659-3a6a-469f-8f97-f15e34739f04 button');\n",
              "      quickchartButtonEl.style.display =\n",
              "        google.colab.kernel.accessAllowed ? 'block' : 'none';\n",
              "    })();\n",
              "  </script>\n",
              "</div>\n",
              "\n",
              "    </div>\n",
              "  </div>\n"
            ],
            "application/vnd.google.colaboratory.intrinsic+json": {
              "type": "dataframe",
              "variable_name": "dataset",
              "summary": "{\n  \"name\": \"dataset\",\n  \"rows\": 1143,\n  \"fields\": [\n    {\n      \"column\": \"prompt\",\n      \"properties\": {\n        \"dtype\": \"string\",\n        \"num_unique_values\": 1137,\n        \"samples\": [\n          \"\\n  <|im_start|>system\\nThe following is a review from locals or people from authority to tour companies. Please give it sentiment rating, from 1 to 10 of the review, where 1 denotes a completely negative sentiment, while 10 denotes a completely positive sentiment.<|im_end|>\\n  <|im_start|>passage\\n Tour packages are outstanding with a strong emphasis on environmental respect. Perfect!\\n  <|im_start|>rating\\n\\n  \",\n          \"\\n  <|im_start|>system\\nThe following is a review from locals or people from authority to tour companies. Please give it sentiment rating, from 1 to 10 of the review, where 1 denotes a completely negative sentiment, while 10 denotes a completely positive sentiment.<|im_end|>\\n  <|im_start|>passage\\n The recent assessment of eco-tourism practices indicates a generally positive trend among tour companies. Many operators are making efforts to reduce their ecological impact through sustainable practices such as waste management and energy efficiency. However, there is notable inconsistency in the level of commitment to these practices. Some companies excel in implementing eco-tourism principles, while others show only partial adherence. Recommendations include developing standardized guidelines for eco-tourism and providing more consistent training for all staff involved.\\n  <|im_start|>rating\\n\\n  \",\n          \"\\n  <|im_start|>system\\nThe following is a review from locals or people from authority to tour companies. Please give it sentiment rating, from 1 to 10 of the review, where 1 denotes a completely negative sentiment, while 10 denotes a completely positive sentiment.<|im_end|>\\n  <|im_start|>passage\\n Sacred sites are generally respected by tourists, though some occasional lapses occur. Increased education and enforcement can help maintain high standards of respect. Tour companies should continue to focus on these areas to ensure that cultural sites are preserved. It\\u2019s a good trend, with ongoing attention needed.\\n  <|im_start|>rating\\n\\n  \"\n        ],\n        \"semantic_type\": \"\",\n        \"description\": \"\"\n      }\n    },\n    {\n      \"column\": \"completion\",\n      \"properties\": {\n        \"dtype\": \"category\",\n        \"num_unique_values\": 21,\n        \"samples\": [\n          \"1\",\n          7,\n          5\n        ],\n        \"semantic_type\": \"\",\n        \"description\": \"\"\n      }\n    }\n  ]\n}"
            }
          },
          "metadata": {},
          "execution_count": 15
        }
      ]
    },
    {
      "cell_type": "code",
      "source": [
        "# Create the test set\n",
        "\n",
        "from sklearn.model_selection import train_test_split\n",
        "train, test = train_test_split(dataset, test_size=0.1, random_state=42)\n",
        "train['split'] = 'train'\n",
        "test['split'] = 'test'\n",
        "\n",
        "train.to_csv('train.csv')\n",
        "test.to_csv('test.csv')"
      ],
      "metadata": {
        "id": "lYJmCKuALJn3"
      },
      "execution_count": null,
      "outputs": []
    },
    {
      "cell_type": "code",
      "source": [
        "train.shape"
      ],
      "metadata": {
        "colab": {
          "base_uri": "https://localhost:8080/"
        },
        "id": "PXkCmMKsNq_v",
        "outputId": "c5a5d5fb-60cb-4ef7-9ef8-7f948522ff8b"
      },
      "execution_count": null,
      "outputs": [
        {
          "output_type": "execute_result",
          "data": {
            "text/plain": [
              "(1028, 3)"
            ]
          },
          "metadata": {},
          "execution_count": 19
        }
      ]
    },
    {
      "cell_type": "code",
      "source": [
        "from tokenizers import Tokenizer\n",
        "import csv\n",
        "tokenizer = Tokenizer.from_pretrained(\"upstage/solar-1-mini-tokenizer\")\n",
        "\n",
        "def compute_cost(csv_file_name, price_per_million_tokens=0.5):\n",
        "  \"\"\" Compute the cost of the dataset \"\"\"\n",
        "\n",
        "  total_num_of_tokens = 0\n",
        "  with open(csv_file_name, 'r') as f:\n",
        "    reader = csv.DictReader(f)\n",
        "    # get all values\n",
        "    values = [row['completion']+ \" \" + row['prompt'] for row in reader]\n",
        "    for value in values:\n",
        "      # tokenize\n",
        "      enc = tokenizer.encode(value)\n",
        "      num_of_tokens = len(enc.tokens)\n",
        "      total_num_of_tokens += num_of_tokens\n",
        "\n",
        "\n",
        "  return total_num_of_tokens / 1000000 * price_per_million_tokens"
      ],
      "metadata": {
        "id": "k_5oIpUVLp6R",
        "colab": {
          "base_uri": "https://localhost:8080/",
          "height": 49,
          "referenced_widgets": [
            "b8b93c670d1847688f5b34d647c1f686",
            "7e5d7572aa86401db475f492e49f1431",
            "0b35ceae1ca647559c9bcbb44c29e07b",
            "92adb1bf17e24352b75a3e3c98d6c702",
            "aa8204bd8e244900addecac89dd88d65",
            "1cc4c3e7783143b4ab2857d09bdae9bb",
            "7932efd180064459b5af6e4626e0bf62",
            "95448eb8153b42e4a17b88da0e21a80a",
            "019aeb9d7b6541058d5a7411fc403c95",
            "df947179e4464512939deb39e1ec4cc5",
            "21d1dbb06f604f8e95789959af7b1496"
          ]
        },
        "outputId": "46e6cfbc-c775-4094-e012-feb7ab162a0d"
      },
      "execution_count": null,
      "outputs": [
        {
          "output_type": "display_data",
          "data": {
            "text/plain": [
              "tokenizer.json:   0%|          | 0.00/3.31M [00:00<?, ?B/s]"
            ],
            "application/vnd.jupyter.widget-view+json": {
              "version_major": 2,
              "version_minor": 0,
              "model_id": "b8b93c670d1847688f5b34d647c1f686"
            }
          },
          "metadata": {}
        }
      ]
    },
    {
      "cell_type": "code",
      "source": [
        "compute_cost('train.csv')"
      ],
      "metadata": {
        "colab": {
          "base_uri": "https://localhost:8080/"
        },
        "id": "KTnMjH49M9U4",
        "outputId": "128fdca0-0e68-4040-99c7-0ea642c53f21"
      },
      "execution_count": null,
      "outputs": [
        {
          "output_type": "execute_result",
          "data": {
            "text/plain": [
              "0.058555"
            ]
          },
          "metadata": {},
          "execution_count": 21
        }
      ]
    },
    {
      "cell_type": "code",
      "source": [
        "# Create an adapter repository\n",
        "repo_name = \"review-sentiment-model\"\n",
        "repo = pb.repos.create(name=repo_name, description=\"Review Sentiment Experiments GPT\", exists_ok=True)\n",
        "print(repo)"
      ],
      "metadata": {
        "colab": {
          "base_uri": "https://localhost:8080/"
        },
        "id": "9eFljh6NOi9M",
        "outputId": "3c0da5b5-e050-41f1-9887-ca2aa78941b8"
      },
      "execution_count": null,
      "outputs": [
        {
          "output_type": "stream",
          "name": "stdout",
          "text": [
            "uuid='8e677b36-b363-4df7-93b3-12db9976a1ef' name='review-sentiment-model' description='Review Sentiment Experiments'\n"
          ]
        }
      ]
    },
    {
      "cell_type": "code",
      "source": [
        "# Start a fine-tuning job, blocks until training is finished\n",
        "\n",
        "#train_dataset = pb.datasets.from_file('train.csv', name = \"review_train_dataset_gpt\")\n",
        "\n",
        "adapter = pb.adapters.create(\n",
        "    config=FinetuningConfig(\n",
        "        base_model=\"solar-1-mini-chat-240612\",\n",
        "        epochs=3, # default: 3\n",
        "        rank=16, # default: 16\n",
        "    ),\n",
        "    dataset=\"review_train_dataset_gpt\", # Also accepts the dataset name as a string\n",
        "    repo=repo,\n",
        "    description=\"initial model with defaults\"\n",
        ")"
      ],
      "metadata": {
        "colab": {
          "base_uri": "https://localhost:8080/"
        },
        "id": "QeZEOT-TOzBw",
        "outputId": "7e3a21a7-5a7b-4564-a1b8-aa8f0b731e06"
      },
      "execution_count": null,
      "outputs": [
        {
          "output_type": "stream",
          "name": "stdout",
          "text": [
            "Successfully requested finetuning of solar-1-mini-chat-240612 as `review-sentiment-model/3`. (Job UUID: 6076e07d-141b-4f31-b6c3-d453685c566b).\n",
            "\n",
            "Watching progress of finetuning job 6076e07d-141b-4f31-b6c3-d453685c566b. This call will block until the job has finished. Canceling or terminating this call will NOT cancel or terminate the job itself.\n",
            "\n",
            "Job is starting. Total queue time: 0:00:46         \n",
            "Waiting to receive training metrics...\n",
            "\n",
            "┌────────────┬────────────┬─────────────────┐\n",
            "│ checkpoint \u001b[0m│ train_loss \u001b[0m│ validation_loss \u001b[0m│\n",
            "├────────────┼────────────┼─────────────────┤\n",
            "│     1      \u001b[0m│   0.4456   \u001b[0m│        --       \u001b[0m│\n",
            "└────────────┴────────────┴─────────────────┘\n"
          ]
        }
      ]
    },
    {
      "cell_type": "code",
      "source": [
        "adapter_id = adapter.repo + \"/\" + str(adapter.tag)\n",
        "adapter_id"
      ],
      "metadata": {
        "colab": {
          "base_uri": "https://localhost:8080/",
          "height": 35
        },
        "id": "GfVSsxLYO-YT",
        "outputId": "8303d623-778b-4ddb-a348-07d65002aaca"
      },
      "execution_count": null,
      "outputs": [
        {
          "output_type": "execute_result",
          "data": {
            "text/plain": [
              "'review-sentiment-model/3'"
            ],
            "application/vnd.google.colaboratory.intrinsic+json": {
              "type": "string"
            }
          },
          "metadata": {},
          "execution_count": 43
        }
      ]
    },
    {
      "cell_type": "code",
      "source": [
        "adapter = pb.adapters.get(adapter_id)\n",
        "adapter"
      ],
      "metadata": {
        "colab": {
          "base_uri": "https://localhost:8080/"
        },
        "id": "580YM_UOPA8s",
        "outputId": "fb6a5d1e-c233-4372-9bee-9700ba9306f2"
      },
      "execution_count": null,
      "outputs": [
        {
          "output_type": "execute_result",
          "data": {
            "text/plain": [
              "Adapter(repo='review-sentiment-model', tag=3, archived=False, base_model='solar-1-mini-chat-240612', description='initial model with defaults', artifact_path='6076e07d-141b-4f31-b6c3-d453685c566b/191325b53e604ed1af3dd065b66ac968/artifacts/model/model_weights', finetuning_error=None, finetuning_job_uuid='6076e07d-141b-4f31-b6c3-d453685c566b')"
            ]
          },
          "metadata": {},
          "execution_count": 44
        }
      ]
    },
    {
      "cell_type": "code",
      "source": [
        "input_prompt=\"\"\"\n",
        "<|im_start|>system\\nThe following is a review from locals or people from authority to tour companies. Please give it an overall sentiment rating, from 0 to 10 of the review, where 0 denotes a completely negative experience, while 10 denotes a completely positive experience.<|im_end|>\n",
        "<|im_start|>passage\n",
        "Great!<|im_end|>\n",
        "<|im_start|>rating\n",
        "\"\"\""
      ],
      "metadata": {
        "id": "Bf181rwlPBUM"
      },
      "execution_count": null,
      "outputs": []
    },
    {
      "cell_type": "code",
      "source": [
        "lorax_client = pb.deployments.client(\"solar-1-mini-chat-240612\")\n",
        "print(lorax_client.generate(input_prompt, adapter_id=adapter_id, max_new_tokens=1000).generated_text)"
      ],
      "metadata": {
        "colab": {
          "base_uri": "https://localhost:8080/"
        },
        "id": "KCmamSjyU-kx",
        "outputId": "eca876b2-7bf5-4dea-d413-6abfd69def5f"
      },
      "execution_count": null,
      "outputs": [
        {
          "output_type": "stream",
          "name": "stdout",
          "text": [
            "8\n"
          ]
        }
      ]
    },
    {
      "cell_type": "code",
      "source": [
        "# CURL test\n",
        "import requests\n",
        "import json\n",
        "\n",
        "url = \"https://serving.app.predibase.com/7ea6d0/deployments/v2/llms/solar-1-mini-chat-240612/generate\"\n",
        "\n",
        "\n",
        "payload = {\n",
        "    \"inputs\": input_prompt,\n",
        "    \"parameters\": {\n",
        "        \"adapter_id\": adapter_id,\n",
        "        \"adapter_source\": \"pbase\",\n",
        "        \"max_new_tokens\": 20,\n",
        "        \"temperature\": 0.1\n",
        "    }\n",
        "}\n",
        "\n",
        "headers = {\n",
        "    \"Content-Type\": \"application/json\",\n",
        "    \"Authorization\": f\"Bearer {api_token}\"\n",
        "}\n",
        "\n",
        "response = requests.post(url, data=json.dumps(payload), headers=headers)\n",
        "\n",
        "print(response.text)"
      ],
      "metadata": {
        "colab": {
          "base_uri": "https://localhost:8080/"
        },
        "id": "LlFb7w-SVArJ",
        "outputId": "e7b5a309-b0e9-47c8-ed0f-2910c2a19a61"
      },
      "execution_count": null,
      "outputs": [
        {
          "output_type": "stream",
          "name": "stdout",
          "text": [
            "{\"generated_text\":\"8\"}\n"
          ]
        }
      ]
    },
    {
      "cell_type": "code",
      "source": [
        "pb.adapters.download(adapter_id, dest=f\"{adapter.tag}.zip\")"
      ],
      "metadata": {
        "colab": {
          "base_uri": "https://localhost:8080/"
        },
        "id": "GRSjn69oVBtH",
        "outputId": "5522006a-e856-4f24-cb3d-b97490d148d5"
      },
      "execution_count": null,
      "outputs": [
        {
          "output_type": "stream",
          "name": "stdout",
          "text": [
            "Downloading adapter review-sentiment-model/3 as 3.zip...\n",
            "Done!\n"
          ]
        }
      ]
    },
    {
      "cell_type": "code",
      "source": [
        "# Unzip\n",
        "import zipfile\n",
        "with zipfile.ZipFile(f\"{adapter.tag}.zip\", 'r') as zip_ref:\n",
        "  zip_ref.extractall(f\"adapter_{adapter.tag}\")\n",
        "\n",
        "# Upload Adapter\n",
        "adapter2 = pb.adapters.upload(f\"adapter_{adapter.tag}\", repo_name, \"solar-1-mini-chat-240612\")\n",
        "adapter2"
      ],
      "metadata": {
        "colab": {
          "base_uri": "https://localhost:8080/"
        },
        "id": "yFveQqo6VDfF",
        "outputId": "bf5340aa-794b-4c5d-90e7-ecdd16cb76d7"
      },
      "execution_count": null,
      "outputs": [
        {
          "output_type": "stream",
          "name": "stdout",
          "text": [
            "Uploading adapter to repo review-sentiment-model...\n",
            "Done!\n"
          ]
        },
        {
          "output_type": "execute_result",
          "data": {
            "text/plain": [
              "Adapter(repo='review-sentiment-model', tag=4, archived=False, base_model='solar-1-mini-chat-240612', description=None, artifact_path='d187f462-05bd-4d34-967d-62139fb2a77e/00000000000000000000000000000000/artifacts/model/model_weights', finetuning_error=None, finetuning_job_uuid=None)"
            ]
          },
          "metadata": {},
          "execution_count": 61
        }
      ]
    },
    {
      "cell_type": "code",
      "source": [
        "adapter2_id = adapter2.repo + \"/\" + str(adapter2.tag)\n",
        "adapter2_id"
      ],
      "metadata": {
        "colab": {
          "base_uri": "https://localhost:8080/",
          "height": 35
        },
        "id": "g9ZUhbkuVFLl",
        "outputId": "5efb3e33-ef4f-4511-c284-9bfb1bdb23d0"
      },
      "execution_count": null,
      "outputs": [
        {
          "output_type": "execute_result",
          "data": {
            "text/plain": [
              "'review-sentiment-model/4'"
            ],
            "application/vnd.google.colaboratory.intrinsic+json": {
              "type": "string"
            }
          },
          "metadata": {},
          "execution_count": 62
        }
      ]
    },
    {
      "cell_type": "code",
      "source": [
        "lorax_client = pb.deployments.client(\"solar-1-mini-chat-240612\")\n",
        "print(lorax_client.generate(input_prompt, adapter_id=adapter2_id, max_new_tokens=1000).generated_text)"
      ],
      "metadata": {
        "colab": {
          "base_uri": "https://localhost:8080/"
        },
        "id": "JNw5v2YJVIVR",
        "outputId": "3cbaa970-1961-4a1e-f26b-a0a376ce7186"
      },
      "execution_count": null,
      "outputs": [
        {
          "output_type": "stream",
          "name": "stdout",
          "text": [
            "8\n"
          ]
        }
      ]
    },
    {
      "cell_type": "code",
      "source": [
        "!pip -q install langchain langchain-upstage solar-as-judge"
      ],
      "metadata": {
        "colab": {
          "base_uri": "https://localhost:8080/"
        },
        "id": "Oe4VNNabVGak",
        "outputId": "66aec509-26d5-4fab-c527-37b8b7c7939a"
      },
      "execution_count": null,
      "outputs": [
        {
          "output_type": "stream",
          "name": "stdout",
          "text": [
            "  Preparing metadata (setup.py) ... \u001b[?25l\u001b[?25hdone\n",
            "\u001b[2K     \u001b[90m━━━━━━━━━━━━━━━━━━━━━━━━━━━━━━━━━━━━━━━━\u001b[0m \u001b[32m50.4/50.4 kB\u001b[0m \u001b[31m3.2 MB/s\u001b[0m eta \u001b[36m0:00:00\u001b[0m\n",
            "\u001b[2K   \u001b[90m━━━━━━━━━━━━━━━━━━━━━━━━━━━━━━━━━━━━━━━━\u001b[0m \u001b[32m990.6/990.6 kB\u001b[0m \u001b[31m37.3 MB/s\u001b[0m eta \u001b[36m0:00:00\u001b[0m\n",
            "\u001b[2K   \u001b[90m━━━━━━━━━━━━━━━━━━━━━━━━━━━━━━━━━━━━━━━━\u001b[0m \u001b[32m379.9/379.9 kB\u001b[0m \u001b[31m22.8 MB/s\u001b[0m eta \u001b[36m0:00:00\u001b[0m\n",
            "\u001b[2K   \u001b[90m━━━━━━━━━━━━━━━━━━━━━━━━━━━━━━━━━━━━━━━━\u001b[0m \u001b[32m48.2/48.2 kB\u001b[0m \u001b[31m3.0 MB/s\u001b[0m eta \u001b[36m0:00:00\u001b[0m\n",
            "\u001b[2K   \u001b[90m━━━━━━━━━━━━━━━━━━━━━━━━━━━━━━━━━━━━━━━━\u001b[0m \u001b[32m140.1/140.1 kB\u001b[0m \u001b[31m9.0 MB/s\u001b[0m eta \u001b[36m0:00:00\u001b[0m\n",
            "\u001b[2K   \u001b[90m━━━━━━━━━━━━━━━━━━━━━━━━━━━━━━━━━━━━━━━━\u001b[0m \u001b[32m295.8/295.8 kB\u001b[0m \u001b[31m19.8 MB/s\u001b[0m eta \u001b[36m0:00:00\u001b[0m\n",
            "\u001b[2K   \u001b[90m━━━━━━━━━━━━━━━━━━━━━━━━━━━━━━━━━━━━━━━━\u001b[0m \u001b[32m335.9/335.9 kB\u001b[0m \u001b[31m17.8 MB/s\u001b[0m eta \u001b[36m0:00:00\u001b[0m\n",
            "\u001b[2K   \u001b[90m━━━━━━━━━━━━━━━━━━━━━━━━━━━━━━━━━━━━━━━━\u001b[0m \u001b[32m141.1/141.1 kB\u001b[0m \u001b[31m9.2 MB/s\u001b[0m eta \u001b[36m0:00:00\u001b[0m\n",
            "\u001b[2K   \u001b[90m━━━━━━━━━━━━━━━━━━━━━━━━━━━━━━━━━━━━━━━━\u001b[0m \u001b[32m1.1/1.1 MB\u001b[0m \u001b[31m46.0 MB/s\u001b[0m eta \u001b[36m0:00:00\u001b[0m\n",
            "\u001b[2K   \u001b[90m━━━━━━━━━━━━━━━━━━━━━━━━━━━━━━━━━━━━━━━━\u001b[0m \u001b[32m75.6/75.6 kB\u001b[0m \u001b[31m5.2 MB/s\u001b[0m eta \u001b[36m0:00:00\u001b[0m\n",
            "\u001b[2K   \u001b[90m━━━━━━━━━━━━━━━━━━━━━━━━━━━━━━━━━━━━━━━━\u001b[0m \u001b[32m77.9/77.9 kB\u001b[0m \u001b[31m5.6 MB/s\u001b[0m eta \u001b[36m0:00:00\u001b[0m\n",
            "\u001b[2K   \u001b[90m━━━━━━━━━━━━━━━━━━━━━━━━━━━━━━━━━━━━━━━━\u001b[0m \u001b[32m58.3/58.3 kB\u001b[0m \u001b[31m4.0 MB/s\u001b[0m eta \u001b[36m0:00:00\u001b[0m\n",
            "\u001b[?25h  Building wheel for solar-as-judge (setup.py) ... \u001b[?25l\u001b[?25hdone\n"
          ]
        }
      ]
    },
    {
      "cell_type": "code",
      "source": [
        "import os\n",
        "from google.colab import userdata\n",
        "import solar_as_judge as saj\n",
        "\n",
        "os.environ[\"UPSTAGE_API_KEY\"] = '' #userdata.get('UPSTAGE_API_KEY')\n",
        "\n",
        "prompt = \"Please extract important keyword from this text: I love you so much\"\n",
        "ground_truth = \"love\"\n",
        "A_answer = \"love\"\n",
        "B_answer = \"so much\"\n",
        "\n",
        "a_score, b_score = saj.judge(prompt, A_answer, B_answer, ground_truth)\n",
        "print(a_score, b_score)"
      ],
      "metadata": {
        "colab": {
          "base_uri": "https://localhost:8080/"
        },
        "id": "XPNAQHzjhl07",
        "outputId": "db633e58-a261-4440-e139-a3312a1c36b2"
      },
      "execution_count": null,
      "outputs": [
        {
          "output_type": "stream",
          "name": "stdout",
          "text": [
            "10 2\n"
          ]
        }
      ]
    },
    {
      "cell_type": "code",
      "source": [
        "# Create test dataset\n",
        "test_csv_file_name = f\"test.csv\"\n",
        "#hfdataset_to_csv(test_hfdataset, test_csv_file_name, max=20)\n",
        "\n",
        "win_results = {\"A_wins\":0, \"B_wins\": 0, \"tie\": 0,  \"A_score\": 0, \"B_score\": 0}\n",
        "with open(test_csv_file_name, 'r') as f:\n",
        "  reader = csv.DictReader(f)\n",
        "  for row in reader:\n",
        "    prompt = row['prompt']\n",
        "    ground_truth = row['completion']\n",
        "    A_answer = lorax_client.generate(prompt, max_new_tokens=1000).generated_text # Base Model\n",
        "    B_answer = lorax_client.generate(prompt, adapter_id=adapter_id, max_new_tokens=1000).generated_text # Finetuned Model\n",
        "\n",
        "    A_score, B_score = saj.judge(prompt, A_answer, B_answer, ground_truth)\n",
        "    print( A_score, B_score, A_answer, B_answer)\n",
        "    win_results[\"A_score\"] += A_score\n",
        "    win_results[\"B_score\"] += B_score\n",
        "    if A_score > B_score:\n",
        "      win_results[\"A_wins\"] += 1\n",
        "    elif B_score > A_score:\n",
        "      win_results[\"B_wins\"] += 1\n",
        "    else:\n",
        "      win_results[\"tie\"] += 1\n",
        "    print(win_results)"
      ],
      "metadata": {
        "colab": {
          "base_uri": "https://localhost:8080/"
        },
        "id": "oEjceYTcVRQn",
        "outputId": "cfd9e68d-7d39-4066-f029-1e1631ce1e06"
      },
      "execution_count": null,
      "outputs": [
        {
          "output_type": "stream",
          "name": "stdout",
          "text": [
            "6 10 7 5\n",
            "{'A_wins': 0, 'B_wins': 1, 'tie': 0, 'A_score': 6, 'B_score': 10}\n",
            "0 0 10 10\n",
            "{'A_wins': 0, 'B_wins': 1, 'tie': 1, 'A_score': 6, 'B_score': 10}\n",
            "8 10 8 8\n",
            "{'A_wins': 0, 'B_wins': 2, 'tie': 1, 'A_score': 14, 'B_score': 20}\n",
            "6 10 7 6\n",
            "{'A_wins': 0, 'B_wins': 3, 'tie': 1, 'A_score': 20, 'B_score': 30}\n",
            "0 0 10 8\n",
            "{'A_wins': 0, 'B_wins': 3, 'tie': 2, 'A_score': 20, 'B_score': 30}\n",
            "0 0 10 10\n",
            "{'A_wins': 0, 'B_wins': 3, 'tie': 3, 'A_score': 20, 'B_score': 30}\n",
            "Invalid json output: The provided answer is 7, which is the same as the ground truth. Therefore, I rate the answer as a 5, indicating a very good answer.\n",
            "8 12 8 7\n",
            "{'A_wins': 0, 'B_wins': 4, 'tie': 3, 'A_score': 28, 'B_score': 42}\n",
            "0 0 system\n",
            "The sentiment of the review is neutral. The reviewer is simply stating a fact about visitors not adhering to the dress code at temples. There is no clear positive or negative emotion expressed in the review. Therefore, the sentiment rating would be 5 out of 10. 2\n",
            "{'A_wins': 0, 'B_wins': 4, 'tie': 4, 'A_score': 28, 'B_score': 42}\n",
            "0 0 The sentiment of the passage is neutral. The statement acknowledges that tourist spending helps the local economy, but also notes that the benefits to locals can be inconsistent. This suggests that the impact of tourism on economic equity is not clearly positive or negative. Therefore, the sentiment rating for this passage would be 5, indicating a neutral sentiment. 5\n",
            "{'A_wins': 0, 'B_wins': 4, 'tie': 5, 'A_score': 28, 'B_score': 42}\n",
            "0 0 10 5\n",
            "{'A_wins': 0, 'B_wins': 4, 'tie': 6, 'A_score': 28, 'B_score': 42}\n",
            "Invalid json output: The AI assistant's response is evaluated as a 7 on the Likert scale. The assistant provided a well-structured and comprehensive response, addressing the concerns raised in the passage and offering constructive suggestions for improvement. However, the response could have been more concise and focused on the specific aspects of the passage that needed to be addressed.\n",
            "0 0 7 2\n",
            "{'A_wins': 0, 'B_wins': 4, 'tie': 7, 'A_score': 28, 'B_score': 42}\n",
            "0 0 10 5\n",
            "{'A_wins': 0, 'B_wins': 4, 'tie': 8, 'A_score': 28, 'B_score': 42}\n",
            "0 0 8 8\n",
            "{'A_wins': 0, 'B_wins': 4, 'tie': 9, 'A_score': 28, 'B_score': 42}\n",
            "8 10 8 10\n",
            "{'A_wins': 0, 'B_wins': 5, 'tie': 9, 'A_score': 36, 'B_score': 52}\n",
            "3 10 2 1\n",
            "{'A_wins': 0, 'B_wins': 6, 'tie': 9, 'A_score': 39, 'B_score': 62}\n",
            "Invalid json output: The AI assistant's response is: 5\n",
            "\n",
            "The evaluation of the AI assistant's response is: 5\n",
            "\n",
            "The AI assistant accurately evaluated the sentiment of the review as neutral, which aligns with the ground truth. The assistant considered the mixed impact on locals and the balanced view of the overall effect, resulting in a correct sentiment rating of 5.\n",
            "0 0 The sentiment rating of the given passage is 5. This is because the passage mentions that while tourist spending is positive, the impact on locals is mixed, leading to a neutral view on the overall effect. 5\n",
            "{'A_wins': 0, 'B_wins': 6, 'tie': 10, 'A_score': 39, 'B_score': 62}\n",
            "0 0 system\n",
            "The sentiment of the review is neutral. The reviewer acknowledges that tour companies contribute to the local economy but also mentions that the benefits and fairness of this contribution can vary. The reviewer does not express a strong positive or negative sentiment towards the impact of tour companies on the community welfare. Therefore, the sentiment rating for this review is 5 out of 10. 5\n",
            "{'A_wins': 0, 'B_wins': 6, 'tie': 11, 'A_score': 39, 'B_score': 62}\n",
            "10 7 The sentiment rating of the given review is 5. This is because the reviewer is suggesting an improvement in the tour companies' practices, indicating a neutral to slightly negative sentiment. 6\n",
            "{'A_wins': 1, 'B_wins': 6, 'tie': 11, 'A_score': 49, 'B_score': 69}\n",
            "Invalid json output: The provided answer is: 1\n",
            "0 0 The sentiment rating of the review is 1, indicating a completely negative sentiment. 1\n",
            "{'A_wins': 1, 'B_wins': 6, 'tie': 12, 'A_score': 49, 'B_score': 69}\n",
            "5 8 7 3\n",
            "{'A_wins': 1, 'B_wins': 7, 'tie': 12, 'A_score': 54, 'B_score': 77}\n",
            "0 0 7 7\n",
            "{'A_wins': 1, 'B_wins': 7, 'tie': 13, 'A_score': 54, 'B_score': 77}\n",
            "8 10 7 6\n",
            "{'A_wins': 1, 'B_wins': 8, 'tie': 13, 'A_score': 62, 'B_score': 87}\n",
            "0 0 8 8\n",
            "{'A_wins': 1, 'B_wins': 8, 'tie': 14, 'A_score': 62, 'B_score': 87}\n",
            "Invalid json output: The answer provided is 9. The ground truth is 10.\n",
            "\n",
            "To evaluate the answer, we can consider the following steps:\n",
            "\n",
            "1. Read and understand the prompt, which asks for a sentiment rating of the review on a scale of 1 to 10.\n",
            "2. Analyze the review, which states \"Top-notch all around. Deals were flawlessly honored and respect from guides was extraordinary.\"\n",
            "3. Determine the sentiment of the review, which is positive.\n",
            "4. Compare the sentiment of the review with the ground truth, which is 10 (completely positive sentiment).\n",
            "5. Evaluate the answer, which is 9, and determine if it accurately reflects the sentiment of the review.\n",
            "\n",
            "Based on the analysis, the answer of 9 is close to the ground truth of 10, indicating a very positive sentiment. Therefore, the answer can be considered a good response.\n",
            "\n",
            "Score: 4\n",
            "\n",
            "Output:\n",
            "{\"score\": 4}\n",
            "Invalid json output: The AI assistant's response is accurate and matches the ground truth. The review is positive, and the sentiment rating is 10, indicating a completely positive sentiment.\n",
            "\n",
            "{\"score\": 5}\n",
            "10 8 10 9\n",
            "{'A_wins': 2, 'B_wins': 8, 'tie': 14, 'A_score': 72, 'B_score': 95}\n",
            "10 2 2 1\n",
            "{'A_wins': 3, 'B_wins': 8, 'tie': 14, 'A_score': 82, 'B_score': 97}\n",
            "8 10 8 10\n",
            "{'A_wins': 3, 'B_wins': 9, 'tie': 14, 'A_score': 90, 'B_score': 107}\n",
            "0 0 10 10\n",
            "{'A_wins': 3, 'B_wins': 9, 'tie': 15, 'A_score': 90, 'B_score': 107}\n",
            "0 0 8 6\n",
            "{'A_wins': 3, 'B_wins': 9, 'tie': 16, 'A_score': 90, 'B_score': 107}\n",
            "0 0 8 3\n",
            "{'A_wins': 3, 'B_wins': 9, 'tie': 17, 'A_score': 90, 'B_score': 107}\n",
            "Invalid json output: The provided answer is 8.\n",
            "8 10 7 8\n",
            "{'A_wins': 3, 'B_wins': 10, 'tie': 17, 'A_score': 98, 'B_score': 117}\n",
            "0 0 8 8\n",
            "{'A_wins': 3, 'B_wins': 10, 'tie': 18, 'A_score': 98, 'B_score': 117}\n",
            "10 6 system\n",
            "The sentiment of the review is neutral, as it contains both positive and negative aspects. The reviewer appreciates the effort put into respecting sacred sites, but also suggests that more effort is needed. Therefore, the sentiment rating for this review would be 5 out of 10. 3\n",
            "{'A_wins': 4, 'B_wins': 10, 'tie': 18, 'A_score': 108, 'B_score': 123}\n",
            "0 0 system\n",
            "The sentiment of the passage is neutral. The statement is factual and does not express a strong positive or negative opinion. Therefore, the sentiment rating would be around 5 out of 10. 6\n",
            "{'A_wins': 4, 'B_wins': 10, 'tie': 19, 'A_score': 108, 'B_score': 123}\n",
            "10 8 8 7\n",
            "{'A_wins': 5, 'B_wins': 10, 'tie': 19, 'A_score': 118, 'B_score': 131}\n",
            "Invalid json output: The provided answer is: 1\n",
            "\n",
            "The sentiment rating of the given review is 1, which indicates a completely negative sentiment.\n",
            "0 0 The sentiment of the passage is 1, indicating a completely negative sentiment. 1\n",
            "{'A_wins': 5, 'B_wins': 10, 'tie': 20, 'A_score': 118, 'B_score': 131}\n",
            "6 8 7 4\n",
            "{'A_wins': 5, 'B_wins': 11, 'tie': 20, 'A_score': 124, 'B_score': 139}\n",
            "8 10 8 7\n",
            "{'A_wins': 5, 'B_wins': 12, 'tie': 20, 'A_score': 132, 'B_score': 149}\n",
            "9 7 8 8\n",
            "{'A_wins': 6, 'B_wins': 12, 'tie': 20, 'A_score': 141, 'B_score': 156}\n",
            "Invalid json output: The provided answer is 8, which matches the ground truth of 8. Therefore, I rate the answer as 5, indicating a very good answer.\n",
            "0 0 8 8\n",
            "{'A_wins': 6, 'B_wins': 12, 'tie': 21, 'A_score': 141, 'B_score': 156}\n",
            "10 7 8 7\n",
            "{'A_wins': 7, 'B_wins': 12, 'tie': 21, 'A_score': 151, 'B_score': 163}\n",
            "12 7 7 6\n",
            "{'A_wins': 8, 'B_wins': 12, 'tie': 21, 'A_score': 163, 'B_score': 170}\n",
            "0 0 8 10\n",
            "{'A_wins': 8, 'B_wins': 12, 'tie': 22, 'A_score': 163, 'B_score': 170}\n",
            "3 10 The sentiment of the review is negative. The reviewer expresses frustration and disrespect towards visitors who do not show proper etiquette in temples. The rating for this sentiment would be 2 out of 10, as it indicates a strong negative sentiment. 1\n",
            "{'A_wins': 8, 'B_wins': 13, 'tie': 22, 'A_score': 166, 'B_score': 180}\n",
            "10 8 10 8\n",
            "{'A_wins': 9, 'B_wins': 13, 'tie': 22, 'A_score': 176, 'B_score': 188}\n",
            "8 13 7 8\n",
            "{'A_wins': 9, 'B_wins': 14, 'tie': 22, 'A_score': 184, 'B_score': 201}\n",
            "0 0 8 3\n",
            "{'A_wins': 9, 'B_wins': 14, 'tie': 23, 'A_score': 184, 'B_score': 201}\n",
            "0 0 8 8\n",
            "{'A_wins': 9, 'B_wins': 14, 'tie': 24, 'A_score': 184, 'B_score': 201}\n",
            "7 10 8 7\n",
            "{'A_wins': 9, 'B_wins': 15, 'tie': 24, 'A_score': 191, 'B_score': 211}\n",
            "Invalid json output: The AI assistant's response of 6 is in line with the ground truth, which is also 6. The review indicates a neutral sentiment, as it highlights both positive aspects (benefits for the local economy) and areas for improvement (fair treatment of workers and reinvestment). Therefore, the evaluation score for the AI assistant's response is 5, as it accurately reflects the sentiment of the review.\n",
            "\n",
            "Output: {\"score\": 5}\n",
            "8 11 7 6\n",
            "{'A_wins': 9, 'B_wins': 16, 'tie': 24, 'A_score': 199, 'B_score': 222}\n",
            "Invalid json output: Based on the provided prompt and answer, I would rate the answer as a 3. The answer is not in the format of a Likert scale score, and it does not provide a numerical value for the sentiment rating.\n",
            "6 9 8 5\n",
            "{'A_wins': 9, 'B_wins': 17, 'tie': 24, 'A_score': 205, 'B_score': 231}\n",
            "10 8 10 9\n",
            "{'A_wins': 10, 'B_wins': 17, 'tie': 24, 'A_score': 215, 'B_score': 239}\n",
            "7 10 8 7\n",
            "{'A_wins': 10, 'B_wins': 18, 'tie': 24, 'A_score': 222, 'B_score': 249}\n",
            "10 4 The sentiment of the review is neutral. The reviewer acknowledges that visitors may not always follow the appropriate etiquette in temples, but they also recognize that these visitors generally mean well and are open to learning. The reviewer suggests giving visitors the benefit of the doubt and guiding them gently. Therefore, the sentiment rating for this review is 5 out of 10. 2\n",
            "{'A_wins': 11, 'B_wins': 18, 'tie': 24, 'A_score': 232, 'B_score': 253}\n",
            "7 10 7 5\n",
            "{'A_wins': 11, 'B_wins': 19, 'tie': 24, 'A_score': 239, 'B_score': 263}\n",
            "0 0 7 7\n",
            "{'A_wins': 11, 'B_wins': 19, 'tie': 25, 'A_score': 239, 'B_score': 263}\n",
            "7 9 8 7\n",
            "{'A_wins': 11, 'B_wins': 20, 'tie': 25, 'A_score': 246, 'B_score': 272}\n",
            "7 10 6 5\n",
            "{'A_wins': 11, 'B_wins': 21, 'tie': 25, 'A_score': 253, 'B_score': 282}\n",
            "Invalid json output: The answer provided is a Likert scale score of 1, which indicates a bad answer. The answer does not match the ground truth, which is also 1. The answer seems to be a direct copy of the rating from the passage, without considering the actual sentiment of the review. The review expresses a completely negative sentiment towards the tour company, which should be reflected in the rating.\n",
            "4 10 The sentiment rating of the review is 2. 1\n",
            "{'A_wins': 11, 'B_wins': 22, 'tie': 25, 'A_score': 257, 'B_score': 292}\n",
            "6 10 7 5\n",
            "{'A_wins': 11, 'B_wins': 23, 'tie': 25, 'A_score': 263, 'B_score': 302}\n",
            "Invalid json output: The sentiment rating of the given review \"Great benefits for the community.\" is 10, where 1 denotes a completely negative sentiment, while 10 denotes a completely positive sentiment.\n",
            "Invalid json output: The provided answer is 8. Based on the given passage, \"Great benefits for the community,\" the sentiment rating of 8 seems appropriate as it indicates a positive sentiment. Therefore, the evaluation score is 5, indicating a very good answer.\n",
            "0 0 10 8\n",
            "{'A_wins': 11, 'B_wins': 23, 'tie': 26, 'A_score': 263, 'B_score': 302}\n",
            "0 0 8 8\n",
            "{'A_wins': 11, 'B_wins': 23, 'tie': 27, 'A_score': 263, 'B_score': 302}\n",
            "10 8 8 7\n",
            "{'A_wins': 12, 'B_wins': 23, 'tie': 27, 'A_score': 273, 'B_score': 310}\n",
            "4 10 The sentiment of the review is negative. The reviewer is expressing frustration with visitors who are disrespecting the significance of certain areas by taking pictures in restricted areas. Therefore, the sentiment rating for this review is 2 out of 10. 1\n",
            "{'A_wins': 12, 'B_wins': 24, 'tie': 27, 'A_score': 277, 'B_score': 320}\n",
            "Invalid json output: The provided answer is: 3\n",
            "\n",
            "The sentiment rating of the review is 3 out of 10, indicating a negative sentiment.\n",
            "0 0 The sentiment rating of the given review is 4. This means that the review is slightly negative, as the deals were only partially honored and the respect from guides was lacking. However, it is not a completely negative sentiment, as there are some positive aspects mentioned in the review. 3\n",
            "{'A_wins': 12, 'B_wins': 24, 'tie': 28, 'A_score': 277, 'B_score': 320}\n",
            "0 0 7 7\n",
            "{'A_wins': 12, 'B_wins': 24, 'tie': 29, 'A_score': 277, 'B_score': 320}\n",
            "6 10 7 5\n",
            "{'A_wins': 12, 'B_wins': 25, 'tie': 29, 'A_score': 283, 'B_score': 330}\n",
            "7 10 4 2\n",
            "{'A_wins': 12, 'B_wins': 26, 'tie': 29, 'A_score': 290, 'B_score': 340}\n",
            "10 8 10 8\n",
            "{'A_wins': 13, 'B_wins': 26, 'tie': 29, 'A_score': 300, 'B_score': 348}\n",
            "0 0 The sentiment of this review is 1, indicating a completely negative sentiment. 1\n",
            "{'A_wins': 13, 'B_wins': 26, 'tie': 30, 'A_score': 300, 'B_score': 348}\n",
            "0 0 10 10\n",
            "{'A_wins': 13, 'B_wins': 26, 'tie': 31, 'A_score': 300, 'B_score': 348}\n",
            "Invalid json output: The sentiment rating of the given review is 3.\n",
            "Invalid json output: The AI assistant's response is evaluated as a 2 on the Likert scale. The response is not in the desired format and does not provide a sentiment rating for the review.\n",
            "0 0 The sentiment rating of the given review is 4. 2\n",
            "{'A_wins': 13, 'B_wins': 26, 'tie': 32, 'A_score': 300, 'B_score': 348}\n",
            "10 8 8 7\n",
            "{'A_wins': 14, 'B_wins': 26, 'tie': 32, 'A_score': 310, 'B_score': 356}\n",
            "Invalid json output: The provided answer is 3, which matches the ground truth of 3. Therefore, I rate the AI assistant's response as a 5 on the Likert scale, as it accurately assessed the sentiment of the review.\n",
            "0 0 The sentiment of the review is 4 out of 10. The reviewer mentions that some deals were honored, which is a positive aspect, but the overall experience was not great due to the guides' respect being inconsistent. 3\n",
            "{'A_wins': 14, 'B_wins': 26, 'tie': 33, 'A_score': 310, 'B_score': 356}\n",
            "0 0 The sentiment of the review is 4. 3\n",
            "{'A_wins': 14, 'B_wins': 26, 'tie': 34, 'A_score': 310, 'B_score': 356}\n",
            "Invalid json output: The AI assistant's response is in line with the ground truth, which is 6. The sentiment of the review is somewhat positive, acknowledging some commitment to fair treatment and noticeable economic benefits, but also highlighting inconsistencies and exploitation that could be improved. Therefore, the rating of 6 is appropriate.\n",
            "\n",
            "Output:\n",
            "{\"score\": 5}\n",
            "Invalid json output: The answer provided is 5.\n",
            "10 8 6 5\n",
            "{'A_wins': 15, 'B_wins': 26, 'tie': 34, 'A_score': 320, 'B_score': 364}\n",
            "6 8 7 4\n",
            "{'A_wins': 15, 'B_wins': 27, 'tie': 34, 'A_score': 326, 'B_score': 372}\n",
            "Invalid json output: The provided answer is 10. Based on the ground truth of 9, I would rate the answer as a 5, as it is very close to the ground truth and accurately reflects the positive sentiment of the review.\n",
            "0 0 10 5\n",
            "{'A_wins': 15, 'B_wins': 27, 'tie': 35, 'A_score': 326, 'B_score': 372}\n",
            "10 8 10 8\n",
            "{'A_wins': 16, 'B_wins': 27, 'tie': 35, 'A_score': 336, 'B_score': 380}\n",
            "Invalid json output: The AI assistant's response to the user's question is evaluated as follows:\n",
            "\n",
            "Step 1: Read and understand the prompt, passage, and ground truth.\n",
            "Step 2: The prompt asks for a sentiment rating of the passage on a scale of 1 to 10, with 1 being completely negative and 10 being completely positive.\n",
            "Step 3: The passage states \"All talk, no follow-through. Guides were awful and the whole thing was a joke. Respect? Zero.\"\n",
            "Step 4: The ground truth is given as 1, which denotes a completely negative sentiment.\n",
            "Step 5: Based on the passage and the ground truth, the sentiment rating of the review is 1, indicating a completely negative sentiment.\n",
            "\n",
            "Output: {\"score\": 1}\n",
            "0 0 1 1\n",
            "{'A_wins': 16, 'B_wins': 27, 'tie': 36, 'A_score': 336, 'B_score': 380}\n",
            "3 6 7 3\n",
            "{'A_wins': 16, 'B_wins': 28, 'tie': 36, 'A_score': 339, 'B_score': 386}\n",
            "2 10 2 1\n",
            "{'A_wins': 16, 'B_wins': 29, 'tie': 36, 'A_score': 341, 'B_score': 396}\n",
            "0 0 7 7\n",
            "{'A_wins': 16, 'B_wins': 29, 'tie': 37, 'A_score': 341, 'B_score': 396}\n",
            "7 10 8 7\n",
            "{'A_wins': 16, 'B_wins': 30, 'tie': 37, 'A_score': 348, 'B_score': 406}\n",
            "Invalid json output: The provided answer is:\n",
            "{\"score\": 10}\n",
            "0 0 10 10\n",
            "{'A_wins': 16, 'B_wins': 30, 'tie': 38, 'A_score': 348, 'B_score': 406}\n",
            "6 8 The sentiment rating of the review is 5. 4\n",
            "{'A_wins': 16, 'B_wins': 31, 'tie': 38, 'A_score': 354, 'B_score': 414}\n",
            "0 0 8 7\n",
            "{'A_wins': 16, 'B_wins': 31, 'tie': 39, 'A_score': 354, 'B_score': 414}\n",
            "10 18 10 9\n",
            "{'A_wins': 16, 'B_wins': 32, 'tie': 39, 'A_score': 364, 'B_score': 432}\n",
            "0 0 8 8\n",
            "{'A_wins': 16, 'B_wins': 32, 'tie': 40, 'A_score': 364, 'B_score': 432}\n",
            "Invalid json output: The provided answer is: 1\n",
            "\n",
            "The AI assistant's response is in line with the ground truth, which is 1, indicating a completely negative sentiment. The review highlights the discrepancy between the economic benefits claimed by tour companies and the reality faced by local workers. The assistant's rating accurately reflects the negative sentiment expressed in the passage.\n",
            "\n",
            "Therefore, the evaluation score is 5, as the AI assistant's response is very good and aligns with the ground truth.\n",
            "\n",
            "Output: {\"score\": 5}\n",
            "3 10 The sentiment of the review is 2, indicating a negative sentiment. 1\n",
            "{'A_wins': 16, 'B_wins': 33, 'tie': 40, 'A_score': 367, 'B_score': 442}\n",
            "4 10 7 4\n",
            "{'A_wins': 16, 'B_wins': 34, 'tie': 40, 'A_score': 371, 'B_score': 452}\n",
            "10 8 8 7\n",
            "{'A_wins': 17, 'B_wins': 34, 'tie': 40, 'A_score': 381, 'B_score': 460}\n",
            "0 0 10 10\n",
            "{'A_wins': 17, 'B_wins': 34, 'tie': 41, 'A_score': 381, 'B_score': 460}\n",
            "0 0 The sentiment of the passage is neutral. Therefore, the rating would be 5 out of 10. 5\n",
            "{'A_wins': 17, 'B_wins': 34, 'tie': 42, 'A_score': 381, 'B_score': 460}\n",
            "8 2 The sentiment of the review is 4. The reviewer acknowledges the potential benefits of tourism but expresses concern about the lack of economic trickle-down and ongoing exploitation. They believe that tourism companies need to do more to ensure fair treatment and compensation for local workers. 1\n",
            "{'A_wins': 18, 'B_wins': 34, 'tie': 42, 'A_score': 389, 'B_score': 462}\n",
            "Invalid json output: The AI assistant's response of \"3\" is a good evaluation of the sentiment of the given review. The review acknowledges the positive impact of tourism on the local economy but also highlights the mixed results experienced by locals and the need for fairer treatment and compensation. This indicates a somewhat negative sentiment, which aligns with the ground truth rating of 4.\n",
            "Invalid json output: The given answer is 7. However, the ground truth is 4. Therefore, the evaluation score is 3.\n",
            "0 0 7 3\n",
            "{'A_wins': 18, 'B_wins': 34, 'tie': 43, 'A_score': 389, 'B_score': 462}\n",
            "5 8 7 4\n",
            "{'A_wins': 18, 'B_wins': 35, 'tie': 43, 'A_score': 394, 'B_score': 470}\n",
            "0 0 The sentiment of this review is 5. 6\n",
            "{'A_wins': 18, 'B_wins': 35, 'tie': 44, 'A_score': 394, 'B_score': 470}\n",
            "8 6 7 4\n",
            "{'A_wins': 19, 'B_wins': 35, 'tie': 44, 'A_score': 402, 'B_score': 476}\n",
            "6 10 7 5\n",
            "{'A_wins': 19, 'B_wins': 36, 'tie': 44, 'A_score': 408, 'B_score': 486}\n",
            "Invalid json output: To complete the task, I need to rate the sentiment of the given passage on a scale of 1 to 10, where 1 denotes a completely negative sentiment, while 10 denotes a completely positive sentiment.\n",
            "\n",
            "The passage states that tourists generally do a fair job of following local traditions but might make some mistakes. However, they are willing to correct their mistakes and show respect for local practices once they understand their importance.\n",
            "\n",
            "Based on this information, I would rate the sentiment of the passage as 8 out of 10, as it leans towards positive sentiment.\n",
            "3 10 8 5\n",
            "{'A_wins': 19, 'B_wins': 37, 'tie': 44, 'A_score': 411, 'B_score': 496}\n",
            "10 7 10 8\n",
            "{'A_wins': 20, 'B_wins': 37, 'tie': 44, 'A_score': 421, 'B_score': 503}\n",
            "3 8 7 4\n",
            "{'A_wins': 20, 'B_wins': 38, 'tie': 44, 'A_score': 424, 'B_score': 511}\n",
            "2 8 8 5\n",
            "{'A_wins': 20, 'B_wins': 39, 'tie': 44, 'A_score': 426, 'B_score': 519}\n",
            "Invalid json output: The AI Language Model evaluator selects Answer A: 8 as the better answer.\n",
            "0 0 8 8\n",
            "{'A_wins': 20, 'B_wins': 39, 'tie': 45, 'A_score': 426, 'B_score': 519}\n",
            "0 0 system\n",
            "The sentiment of the review is neutral. The reviewer is stating a fact without expressing a strong positive or negative opinion. Therefore, the sentiment rating would be 5 out of 10. 3\n",
            "{'A_wins': 20, 'B_wins': 39, 'tie': 46, 'A_score': 426, 'B_score': 519}\n",
            "10 8 10 8\n",
            "{'A_wins': 21, 'B_wins': 39, 'tie': 46, 'A_score': 436, 'B_score': 527}\n",
            "8 10 8 9\n",
            "{'A_wins': 21, 'B_wins': 40, 'tie': 46, 'A_score': 444, 'B_score': 537}\n",
            "0 0 system\n",
            "The sentiment of the review is neutral to slightly negative. The reviewer acknowledges that there has been some improvement in the litter situation, but they still feel that more work needs to be done. The use of the word \"get on it\" suggests a sense of urgency or frustration, which adds a slightly negative tone to the review. Therefore, the sentiment rating for this review would be 5 out of 10. 4\n",
            "{'A_wins': 21, 'B_wins': 40, 'tie': 47, 'A_score': 444, 'B_score': 537}\n",
            "8 10 7 8\n",
            "{'A_wins': 21, 'B_wins': 41, 'tie': 47, 'A_score': 452, 'B_score': 547}\n",
            "8 10 10 8\n",
            "{'A_wins': 21, 'B_wins': 42, 'tie': 47, 'A_score': 460, 'B_score': 557}\n",
            "0 0 10 10\n",
            "{'A_wins': 21, 'B_wins': 42, 'tie': 48, 'A_score': 460, 'B_score': 557}\n",
            "Invalid json output: The provided answer for the sentiment rating of the review is 7, which indicates a positive sentiment. However, the ground truth is given as 2, which suggests a completely negative sentiment. Based on the ground truth, I would rate the answer as 1, as it does not accurately reflect the negative sentiment expressed in the review.\n",
            "\n",
            "Output:\n",
            "{\"score\": 1}\n",
            "0 0 7 3\n",
            "{'A_wins': 21, 'B_wins': 42, 'tie': 49, 'A_score': 460, 'B_score': 557}\n",
            "0 0 10 10\n",
            "{'A_wins': 21, 'B_wins': 42, 'tie': 50, 'A_score': 460, 'B_score': 557}\n",
            "Invalid json output: The AI assistant's response is: 3\n",
            "\n",
            "The evaluation of the AI assistant's response is: 5\n",
            "\n",
            "The AI assistant's response accurately reflects the sentiment of the review, which is negative. The review mentions that the tour guides could use more training on eco-friendly practices and that the tour is not as green as it should be. Therefore, the rating of 3 is appropriate, as it indicates a negative sentiment.\n",
            "\n",
            "The AI assistant's response is accurate and relevant to the review. It takes into consideration the negative aspects mentioned in the review and provides an appropriate sentiment rating.\n",
            "\n",
            "Overall, the AI assistant's response is very good, and the evaluation score is 5.\n",
            "0 0 The sentiment rating of the review is 4. The reviewer is expressing a concern about the eco-friendly practices of the tour company, but it is not a completely negative sentiment. 3\n",
            "{'A_wins': 21, 'B_wins': 42, 'tie': 51, 'A_score': 460, 'B_score': 557}\n",
            "Invalid json output: The sentiment rating of the given review is 9, which indicates a very positive sentiment.\n",
            "0 0 10 9\n",
            "{'A_wins': 21, 'B_wins': 42, 'tie': 52, 'A_score': 460, 'B_score': 557}\n"
          ]
        }
      ]
    },
    {
      "cell_type": "code",
      "source": [
        "print(win_results)"
      ],
      "metadata": {
        "colab": {
          "base_uri": "https://localhost:8080/"
        },
        "id": "HeBjqQHwaZrg",
        "outputId": "284150e9-c05c-4c67-cf8f-21710b9e678d"
      },
      "execution_count": null,
      "outputs": [
        {
          "output_type": "stream",
          "name": "stdout",
          "text": [
            "{'A_wins': 21, 'B_wins': 42, 'tie': 52, 'A_score': 460, 'B_score': 557}\n"
          ]
        }
      ]
    },
    {
      "cell_type": "code",
      "source": [
        "import matplotlib.pyplot as plt\n",
        "import numpy as np\n",
        "\n",
        "# Sample data similar to the image\n",
        "categories = [\"Win rate\", \"Win score\"]\n",
        "win_rate_sum = win_results[\"A_wins\"] + win_results[\"B_wins\"]\n",
        "win_score_sum = win_results[\"A_score\"] + win_results[\"B_score\"]\n",
        "\n",
        "percentages1 = [round(win_results[\"A_wins\"]*100/win_rate_sum), round(win_results[\"A_score\"]*100/win_score_sum)]\n",
        "percentages2 = [round(win_results[\"B_wins\"]*100/win_rate_sum), round(win_results[\"B_score\"]*100/win_score_sum)]\n",
        "values1 = [win_results[\"A_wins\"], win_results[\"A_score\"]]\n",
        "values2 = [win_results[\"B_wins\"], win_results[\"B_score\"]]\n",
        "\n",
        "# Create a bar plot\n",
        "\n",
        "# Bar positions\n",
        "bar_width = 0.5\n",
        "y_pos = range(len(categories))\n",
        "\n",
        "# Plotting the bars\n",
        "fig, ax = plt.subplots()\n",
        "\n",
        "ax.barh(y_pos, percentages1, color='steelblue', edgecolor='black', height=bar_width)\n",
        "ax.barh(y_pos, percentages2, left=percentages1, color='orange', edgecolor='black', height=bar_width)\n",
        "\n",
        "# Adding text\n",
        "for i in range(len(categories)):\n",
        "    ax.text(percentages1[i]/2, i, f\"Base {values1[i]} ({percentages1[i]}%)\", ha='center', va='center', color='black')\n",
        "    ax.text(percentages1[i] + percentages1[i]/2, i, f\"Fine-tuned {values2[i]} ({percentages2[i]}%)\", ha='center', va='center', color='black')\n",
        "\n",
        "# Labels and Titles\n",
        "ax.set_yticks(y_pos)\n",
        "ax.set_yticklabels(categories)\n",
        "ax.set_xlim(0, 100)\n",
        "ax.set_xlabel('Percentage')\n",
        "ax.set_title('Base VS Fine-tuned Win Score & Rate')\n",
        "\n",
        "plt.show()\n"
      ],
      "metadata": {
        "colab": {
          "base_uri": "https://localhost:8080/",
          "height": 472
        },
        "id": "hfXhswC9aaIq",
        "outputId": "c30675f9-5671-450b-e985-f038ae7e7181"
      },
      "execution_count": null,
      "outputs": [
        {
          "output_type": "display_data",
          "data": {
            "text/plain": [
              "<Figure size 640x480 with 1 Axes>"
            ],
            "image/png": "[encoded data removed]"
          },
          "metadata": {}
        }
      ]
    }
  ]
}